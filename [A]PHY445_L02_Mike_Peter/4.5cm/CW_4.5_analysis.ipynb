{
 "cells": [
  {
   "cell_type": "code",
   "execution_count": 2,
   "metadata": {},
   "outputs": [],
   "source": [
    "import pandas as pd"
   ]
  },
  {
   "cell_type": "code",
   "execution_count": 6,
   "metadata": {},
   "outputs": [],
   "source": [
    "filepath = '/home/peter/Desktop/PHY 445 data/[A]PHY445_L02_Mike_Peter/4.5cm/CW2-11-2025-15-20.xlsx'\n",
    "df = pd.read_excel(filepath, sheet_name=None)"
   ]
  },
  {
   "cell_type": "code",
   "execution_count": 7,
   "metadata": {},
   "outputs": [
    {
     "data": {
      "text/plain": [
       "{'config':    MW frequency initial value MHz  MW frequency final value MHz  \\\n",
       " 0                            2500                          3000   \n",
       " \n",
       "    MW frequency center value MHz  MW frequency width MHz  Step Num.  \\\n",
       " 0                           2750                     500        100   \n",
       " \n",
       "    Accumulation Number  MW Power dBm  \n",
       " 0                   50           -14  ,\n",
       " 'data':         x         y\n",
       " 0    2500 -0.290968\n",
       " 1    2505 -0.286783\n",
       " 2    2510 -0.286576\n",
       " 3    2515 -0.286737\n",
       " 4    2520 -0.289938\n",
       " ..    ...       ...\n",
       " 96   2980 -0.288106\n",
       " 97   2985 -0.290491\n",
       " 98   2990 -0.290611\n",
       " 99   2995 -0.288014\n",
       " 100  3000 -0.288695\n",
       " \n",
       " [101 rows x 2 columns]}"
      ]
     },
     "execution_count": 7,
     "metadata": {},
     "output_type": "execute_result"
    }
   ],
   "source": [
    "df"
   ]
  },
  {
   "cell_type": "code",
   "execution_count": null,
   "metadata": {},
   "outputs": [],
   "source": []
  }
 ],
 "metadata": {
  "kernelspec": {
   "display_name": "base",
   "language": "python",
   "name": "python3"
  },
  "language_info": {
   "codemirror_mode": {
    "name": "ipython",
    "version": 3
   },
   "file_extension": ".py",
   "mimetype": "text/x-python",
   "name": "python",
   "nbconvert_exporter": "python",
   "pygments_lexer": "ipython3",
   "version": "3.11.7"
  }
 },
 "nbformat": 4,
 "nbformat_minor": 2
}
