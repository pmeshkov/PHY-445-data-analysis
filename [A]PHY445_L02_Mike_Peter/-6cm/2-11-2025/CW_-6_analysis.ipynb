{
 "cells": [
  {
   "cell_type": "code",
   "execution_count": 18,
   "metadata": {},
   "outputs": [],
   "source": [
    "import pandas as pd"
   ]
  },
  {
   "cell_type": "code",
   "execution_count": 20,
   "metadata": {},
   "outputs": [],
   "source": [
    "df = pd.read_excel('/home/peter/Desktop/PHY 445 data/[A]PHY445_L02_Mike_Peter/-6cm/2-11-2025/CW2-11-2025-14-27.xlsx', sheet_name=None)"
   ]
  },
  {
   "cell_type": "code",
   "execution_count": 21,
   "metadata": {},
   "outputs": [
    {
     "data": {
      "text/plain": [
       "{'config':    MW frequency initial value MHz  MW frequency final value MHz  \\\n",
       " 0                            2600                          3000   \n",
       " \n",
       "    MW frequency center value MHz  MW frequency width MHz  Step Num.  \\\n",
       " 0                           2800                     400        100   \n",
       " \n",
       "    Accumulation Number  MW Power dBm  \n",
       " 0                   50           -14  ,\n",
       " 'data':         x         y\n",
       " 0    2600 -0.292611\n",
       " 1    2604 -0.292187\n",
       " 2    2608 -0.290847\n",
       " 3    2612 -0.291461\n",
       " 4    2616 -0.291224\n",
       " ..    ...       ...\n",
       " 96   2984 -0.289612\n",
       " 97   2988 -0.288728\n",
       " 98   2992 -0.288947\n",
       " 99   2996 -0.288709\n",
       " 100  3000 -0.289036\n",
       " \n",
       " [101 rows x 2 columns]}"
      ]
     },
     "execution_count": 21,
     "metadata": {},
     "output_type": "execute_result"
    }
   ],
   "source": [
    "df"
   ]
  },
  {
   "cell_type": "code",
   "execution_count": null,
   "metadata": {},
   "outputs": [],
   "source": []
  }
 ],
 "metadata": {
  "kernelspec": {
   "display_name": "base",
   "language": "python",
   "name": "python3"
  },
  "language_info": {
   "codemirror_mode": {
    "name": "ipython",
    "version": 3
   },
   "file_extension": ".py",
   "mimetype": "text/x-python",
   "name": "python",
   "nbconvert_exporter": "python",
   "pygments_lexer": "ipython3",
   "version": "3.11.7"
  }
 },
 "nbformat": 4,
 "nbformat_minor": 2
}
